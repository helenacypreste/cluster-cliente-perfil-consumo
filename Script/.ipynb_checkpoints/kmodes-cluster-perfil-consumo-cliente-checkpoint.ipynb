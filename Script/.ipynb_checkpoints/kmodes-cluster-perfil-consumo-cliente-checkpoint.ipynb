{
 "cells": [
  {
   "cell_type": "code",
   "execution_count": 1,
   "metadata": {},
   "outputs": [],
   "source": [
    "import numpy as np\n",
    "import pandas as pd\n",
    "import matplotlib.pyplot as plt\n",
    "import seaborn as sns\n",
    "import os\n",
    "import random\n",
    "import plotly.express as px\n",
    "# pacote do modelo\n",
    "from kmodes.kmodes import KModes\n",
    "# from sklearn.model_selection import train_test_split\n",
    "\n",
    "random.seed(2020)"
   ]
  },
  {
   "cell_type": "code",
   "execution_count": null,
   "metadata": {},
   "outputs": [],
   "source": [
    "# Carregar os dados\n",
    "dados = pd.read_csv('../Dados/ATUAL_BASE_DEB_CRD_PERFIL_CLI_AGR.csv', sep=';')"
   ]
  },
  {
   "cell_type": "code",
   "execution_count": null,
   "metadata": {},
   "outputs": [],
   "source": [
    "# Dados agregados\n",
    "dados_agreg = dados.groupby(['novo_grupo_rmat'])['SUM_of_VALOR'].sum().reset_index()\n",
    "dados_agreg['percentual'] = round(dados_agreg['SUM_of_VALOR']/sum(dados_agreg['SUM_of_VALOR'])*100,2)\n",
    "dados_agreg.head()"
   ]
  },
  {
   "cell_type": "code",
   "execution_count": null,
   "metadata": {},
   "outputs": [],
   "source": [
    "top_rotulos = dados_agreg.sort_values(by = 'percentual', ascending = False)[:30]"
   ]
  },
  {
   "cell_type": "code",
   "execution_count": null,
   "metadata": {},
   "outputs": [],
   "source": [
    "top_rotulos.head()"
   ]
  },
  {
   "cell_type": "code",
   "execution_count": null,
   "metadata": {},
   "outputs": [],
   "source": [
    "ax = top_rotulos.plot.barh(x='novo_grupo_rmat', y='percentual', rot=0, figsize = (20, 15), fontsize=20, color='black')\n",
    "plt.title('Percentual do valor gasto por Ramo de Atividade', fontsize=22)\n",
    "plt.xlabel('')\n",
    "plt.ylabel('')"
   ]
  },
  {
   "cell_type": "code",
   "execution_count": null,
   "metadata": {},
   "outputs": [],
   "source": [
    "# top_rotulos.to_csv('./total_rmat.csv')"
   ]
  },
  {
   "cell_type": "markdown",
   "metadata": {},
   "source": [
    "#### Montagem da base para criação do modelo"
   ]
  },
  {
   "cell_type": "code",
   "execution_count": null,
   "metadata": {},
   "outputs": [],
   "source": [
    "# Volume transacionado do cliente por novo grupo RMAT\n",
    "column = ['SUM_of_VALOR']\n",
    "cliente = dados.groupby(['CD_CLI','novo_grupo_rmat'])[column].sum().reset_index()\n",
    "cliente.head()"
   ]
  },
  {
   "cell_type": "code",
   "execution_count": null,
   "metadata": {},
   "outputs": [],
   "source": [
    "cliente.to_csv('./dados_novo_rmat.csv')"
   ]
  },
  {
   "cell_type": "code",
   "execution_count": null,
   "metadata": {},
   "outputs": [],
   "source": [
    "# cliente = cliente.loc[cliente['SUM_of_VALOR'] >= 100]\n",
    "# cliente.head()"
   ]
  },
  {
   "cell_type": "code",
   "execution_count": null,
   "metadata": {},
   "outputs": [],
   "source": [
    "len(cliente.CD_CLI.unique())"
   ]
  },
  {
   "cell_type": "code",
   "execution_count": null,
   "metadata": {},
   "outputs": [],
   "source": [
    "# Inverter o data frame (colocar nos rmats como coluna)\n",
    "cli_pivot = cliente.pivot(index='CD_CLI', columns='novo_grupo_rmat', values='SUM_of_VALOR')\n",
    "cli_pivot.fillna(0, inplace = True)"
   ]
  },
  {
   "cell_type": "code",
   "execution_count": null,
   "metadata": {},
   "outputs": [],
   "source": [
    "# Calcular o percentual de volume transacionado de cada cliente por rmat \n",
    "cli_pivot = cli_pivot.apply(lambda x: x.apply(lambda y: 100*y/sum(x)),axis = 1)\n",
    "cli_pivot.head()"
   ]
  },
  {
   "cell_type": "code",
   "execution_count": null,
   "metadata": {},
   "outputs": [],
   "source": [
    "# Funnção para fazer categorização das variaveis\n",
    "def hcut(df, colunas, nlevs, prefixo=''):\n",
    "    x = df.copy()\n",
    "    for c in colunas:\n",
    "        \n",
    "        x[prefixo+c] = pd.cut(x[c] , bins=nlevs, include_lowest = False, precision=0)\n",
    "    \n",
    "    return x"
   ]
  },
  {
   "cell_type": "code",
   "execution_count": null,
   "metadata": {},
   "outputs": [],
   "source": [
    "base_cluster = hcut(cli_pivot, cli_pivot\n",
    "                    .columns, 8, 'esc_')"
   ]
  },
  {
   "cell_type": "code",
   "execution_count": null,
   "metadata": {},
   "outputs": [],
   "source": [
    "# Selecionar somentes as colunas categorizadas que serão utilizadas no modelo\n",
    "filter_col = [col for col in base_cluster if\n",
    "              col.startswith('esc_')]\n",
    "df1 = base_cluster.loc[:,filter_col].reset_index() \n",
    "df1.head()"
   ]
  },
  {
   "cell_type": "code",
   "execution_count": null,
   "metadata": {},
   "outputs": [],
   "source": [
    "cli_pivot['atacadista'].describe()"
   ]
  },
  {
   "cell_type": "code",
   "execution_count": null,
   "metadata": {},
   "outputs": [],
   "source": [
    "df1['esc_atacadista'].unique()"
   ]
  },
  {
   "cell_type": "code",
   "execution_count": null,
   "metadata": {},
   "outputs": [],
   "source": []
  },
  {
   "cell_type": "markdown",
   "metadata": {},
   "source": [
    "#### Construção do modelo "
   ]
  },
  {
   "cell_type": "code",
   "execution_count": null,
   "metadata": {},
   "outputs": [],
   "source": [
    "# pip install --upgrade kmodes"
   ]
  },
  {
   "cell_type": "code",
   "execution_count": null,
   "metadata": {},
   "outputs": [],
   "source": [
    "df1.columns"
   ]
  },
  {
   "cell_type": "code",
   "execution_count": null,
   "metadata": {},
   "outputs": [],
   "source": [
    "# divisão da base\n",
    "# y = df1['CD_CLI']\n",
    "# x = df1[filter_col]\n",
    "\n",
    "# x_treino, x_teste, y_treino, y_teste = train_test_split(x, y, test_size=0.3)"
   ]
  },
  {
   "cell_type": "code",
   "execution_count": null,
   "metadata": {},
   "outputs": [],
   "source": [
    "km_huang = KModes(n_clusters=7, init = \"Huang\", n_init = 3, verbose=1, random_state=2020)\n",
    "fitClusters = km_huang.fit_predict(df1)"
   ]
  },
  {
   "cell_type": "code",
   "execution_count": null,
   "metadata": {},
   "outputs": [],
   "source": [
    "# Adiciona os clusters na base\n",
    "df1['cluster'] = fitClusters\n",
    "base_cluster['cluster'] = fitClusters"
   ]
  },
  {
   "cell_type": "code",
   "execution_count": null,
   "metadata": {},
   "outputs": [],
   "source": [
    "cli_agreg = cliente.groupby('CD_CLI')['SUM_of_VALOR'].sum().reset_index()\n",
    "cli_agreg.head()"
   ]
  },
  {
   "cell_type": "code",
   "execution_count": null,
   "metadata": {},
   "outputs": [],
   "source": [
    "df_group = pd.merge(cli_agreg, df1[['CD_CLI','cluster']], left_on = 'CD_CLI', right_on = 'CD_CLI', how = 'inner')\n",
    "df_group.head()"
   ]
  },
  {
   "cell_type": "code",
   "execution_count": null,
   "metadata": {},
   "outputs": [],
   "source": [
    "# dd = pd.merge(dados, df_group[['CD_CLI','cluster']], left_on = 'CD_CLI', right_on = 'CD_CLI', how = 'left')\n",
    "# dd.head()\n",
    "# dd.to_csv('../Dados/dados_brutos_clusters.csv', sep=\";\")\n",
    "df_group.to_csv('./tab_cliente_cluster.csv', sep=';')"
   ]
  },
  {
   "cell_type": "code",
   "execution_count": null,
   "metadata": {},
   "outputs": [],
   "source": [
    "# Junção da base com valor transacionado do cliente e o cluster \n",
    "bs = pd.merge(df1[[\"CD_CLI\",\"cluster\"]], cliente, left_on = 'CD_CLI', right_on = 'CD_CLI', how = 'inner')\n",
    "bs.head()"
   ]
  },
  {
   "cell_type": "code",
   "execution_count": null,
   "metadata": {},
   "outputs": [],
   "source": [
    "# Quantidade de cliente por cluster\n",
    "bs.groupby('cluster')['CD_CLI'].apply(lambda x: len(x.unique()))"
   ]
  },
  {
   "cell_type": "markdown",
   "metadata": {},
   "source": [
    "#### Cluster da base de percentual "
   ]
  },
  {
   "cell_type": "code",
   "execution_count": null,
   "metadata": {},
   "outputs": [],
   "source": [
    "# Filtrar as colunas numericas do data frame\n",
    "filter_col0 = [col for col in base_cluster if not col.startswith('esc_')]\n",
    "filter_col0.remove('cluster')\n",
    "# filter_col0.remove('postos de combustivel')\n",
    "filter_col0.remove('supermercados')"
   ]
  },
  {
   "cell_type": "markdown",
   "metadata": {},
   "source": [
    "###### Cluster 0"
   ]
  },
  {
   "cell_type": "code",
   "execution_count": null,
   "metadata": {},
   "outputs": [],
   "source": [
    "cluster0 = base_cluster[base_cluster['cluster'] == 0]\n",
    "cluster0.head()"
   ]
  },
  {
   "cell_type": "code",
   "execution_count": null,
   "metadata": {},
   "outputs": [],
   "source": [
    "media_c0 = cluster0.loc[:,filter_col0].apply(lambda x: x.mean())"
   ]
  },
  {
   "cell_type": "code",
   "execution_count": null,
   "metadata": {},
   "outputs": [],
   "source": [
    "# fig0 = media_c0.plot(figsize = (20, 8), kind = 'bar', width=0.7, fontsize=15).get_figure()\n",
    "# plt.xticks(rotation=90)\n",
    "# plt.ylim((0,30))\n",
    "# plt.xlabel('')\n",
    "# plt.title('Média percentual(%) do valor gasto por RMAT - Cluster 0', fontsize=20)\n",
    "# plt.show()"
   ]
  },
  {
   "cell_type": "code",
   "execution_count": null,
   "metadata": {},
   "outputs": [],
   "source": [
    "# fig0.savefig('../Graficos/media_cluster0.png')"
   ]
  },
  {
   "cell_type": "code",
   "execution_count": null,
   "metadata": {},
   "outputs": [],
   "source": [
    "mediana_c0 = cluster0.loc[:,filter_col0].apply(lambda x: x.median())"
   ]
  },
  {
   "cell_type": "code",
   "execution_count": null,
   "metadata": {},
   "outputs": [],
   "source": [
    "# mediana_c0.plot.barh(figsize = (10, 13), width=0.7, fontsize=10).get_figure()\n",
    "# plt.xticks(rotation=0)\n",
    "# plt.xlim((0,30))\n",
    "# plt.ylabel('')\n",
    "# plt.title('Mediana percentual(%) do valor gasto por RMAT - Cluster 0', fontsize=15)\n",
    "# plt.show()"
   ]
  },
  {
   "cell_type": "code",
   "execution_count": null,
   "metadata": {},
   "outputs": [],
   "source": [
    "graf0 = mediana_c0[mediana_c0 != 0] \n",
    "graf0 = graf0.sort_values(ascending = False).reset_index()"
   ]
  },
  {
   "cell_type": "code",
   "execution_count": null,
   "metadata": {},
   "outputs": [],
   "source": [
    "graf0.loc[0:15,:].plot.barh(y=0, x='novo_grupo_rmat', figsize = (8, 10), width=0.7, fontsize=15).get_figure()\n",
    "plt.xticks(rotation=0)\n",
    "plt.xlim((0,30))\n",
    "plt.ylabel('')\n",
    "plt.title('Mediana percentual(%) do valor gasto por RMAT - Cluster 0', fontsize=15)\n",
    "plt.show()"
   ]
  },
  {
   "cell_type": "code",
   "execution_count": null,
   "metadata": {},
   "outputs": [],
   "source": [
    "# graf0_mean = media_c0.sort_values(ascending = False).reset_index()"
   ]
  },
  {
   "cell_type": "code",
   "execution_count": null,
   "metadata": {},
   "outputs": [],
   "source": [
    "# fig0_med.savefig('../Graficos/mediana_cluster0.png')"
   ]
  },
  {
   "cell_type": "code",
   "execution_count": null,
   "metadata": {},
   "outputs": [],
   "source": [
    "fig0_radar = px.line_polar(graf0.iloc[0:10,], r=0, theta='novo_grupo_rmat', line_close=True)\n",
    "fig0_radar.update_traces(fill='toself')\n",
    "fig0_radar.show()"
   ]
  },
  {
   "cell_type": "code",
   "execution_count": null,
   "metadata": {},
   "outputs": [],
   "source": [
    "# fig0_radar.savefig('../Graficos/mediana_cluster0_radar.png')"
   ]
  },
  {
   "cell_type": "markdown",
   "metadata": {},
   "source": [
    "###### Cluster 1"
   ]
  },
  {
   "cell_type": "code",
   "execution_count": null,
   "metadata": {},
   "outputs": [],
   "source": [
    "cluster1 = base_cluster[base_cluster['cluster'] == 1]\n",
    "cluster1.head()"
   ]
  },
  {
   "cell_type": "code",
   "execution_count": null,
   "metadata": {},
   "outputs": [],
   "source": [
    "# cluster1.describe()"
   ]
  },
  {
   "cell_type": "code",
   "execution_count": null,
   "metadata": {},
   "outputs": [],
   "source": [
    "#cluster1.to_csv('./cluster1.csv', sep=';')"
   ]
  },
  {
   "cell_type": "code",
   "execution_count": null,
   "metadata": {},
   "outputs": [],
   "source": [
    "media_c1 = cluster1.loc[:,filter_col0].apply(lambda x: x.mean())"
   ]
  },
  {
   "cell_type": "code",
   "execution_count": null,
   "metadata": {},
   "outputs": [],
   "source": [
    "# media_c1.plot(figsize = (20, 8), kind = 'bar', width=0.7, color='orange', fontsize=15).get_figure()\n",
    "# plt.ylim((0,30))\n",
    "# plt.title('Média percentual(%) do valor gasto por RMAT - Cluster 1', fontsize=20)\n",
    "# plt.xlabel('')\n",
    "# plt.xticks(rotation=90)\n",
    "# plt.show()"
   ]
  },
  {
   "cell_type": "code",
   "execution_count": null,
   "metadata": {},
   "outputs": [],
   "source": [
    "mediana_c1 = cluster1.loc[:,filter_col0].apply(lambda x: x.median())"
   ]
  },
  {
   "cell_type": "code",
   "execution_count": null,
   "metadata": {},
   "outputs": [],
   "source": [
    "# mediana_c1.plot.barh(figsize = (10, 13), width=0.7, color='orange', fontsize=11).get_figure()\n",
    "# plt.xlim((0,30))\n",
    "# plt.title('Mediana percentual(%) do valor gasto por RMAT - Cluster 1', fontsize=15)\n",
    "# plt.ylabel('')\n",
    "# plt.xticks(rotation=0)\n",
    "# plt.show()"
   ]
  },
  {
   "cell_type": "code",
   "execution_count": null,
   "metadata": {},
   "outputs": [],
   "source": [
    "graf1 = mediana_c1[mediana_c1 != 0] \n",
    "graf1 = graf1.sort_values(ascending = False).reset_index()"
   ]
  },
  {
   "cell_type": "code",
   "execution_count": null,
   "metadata": {},
   "outputs": [],
   "source": [
    "graf1.loc[0:15,:].plot.barh(y=0, x='novo_grupo_rmat', figsize = (8, 10), width=0.7,color='orange', fontsize=15).get_figure()\n",
    "plt.xticks(rotation=0)\n",
    "plt.xlim((0,30))\n",
    "plt.ylabel('')\n",
    "plt.title('Mediana percentual(%) do valor gasto por RMAT - Cluster 1', fontsize=15)\n",
    "plt.show()"
   ]
  },
  {
   "cell_type": "code",
   "execution_count": null,
   "metadata": {
    "scrolled": true
   },
   "outputs": [],
   "source": [
    "#fig1_radar = px.line_polar(graf1.iloc[0:10,], r=0, theta='novo_grupo_rmat', line_close=True)\n",
    "#fig1_radar.update_traces(fill='toself')\n",
    "#fig1_radar.show()"
   ]
  },
  {
   "cell_type": "markdown",
   "metadata": {},
   "source": [
    "###### Cluster 2"
   ]
  },
  {
   "cell_type": "code",
   "execution_count": null,
   "metadata": {},
   "outputs": [],
   "source": [
    "cluster2 = base_cluster[base_cluster['cluster'] == 2]\n",
    "cluster2.head()"
   ]
  },
  {
   "cell_type": "code",
   "execution_count": null,
   "metadata": {},
   "outputs": [],
   "source": [
    "media_c2 = cluster2.loc[:,filter_col0].apply(lambda x: x.mean())"
   ]
  },
  {
   "cell_type": "code",
   "execution_count": null,
   "metadata": {},
   "outputs": [],
   "source": [
    "# media_c2.plot(figsize = (20, 8), kind = 'bar', width=0.7, color='green', fontsize=15).get_figure()\n",
    "# plt.ylim((0,30))\n",
    "# plt.title('Média percentual(%) do valor gasto por RMAT - Cluster 2', fontsize=20)\n",
    "# plt.xlabel('')\n",
    "# plt.xticks(rotation=90)\n",
    "# plt.show()"
   ]
  },
  {
   "cell_type": "code",
   "execution_count": null,
   "metadata": {},
   "outputs": [],
   "source": [
    "mediana_c2 = cluster2.loc[:,filter_col0].apply(lambda x: x.median())"
   ]
  },
  {
   "cell_type": "code",
   "execution_count": null,
   "metadata": {},
   "outputs": [],
   "source": [
    "# mediana_c2.plot.barh(figsize = (10, 13), width=0.7, color='green', fontsize=11).get_figure()\n",
    "# plt.xlim((0,30))\n",
    "# plt.title('Mediana percentual(%) do valor gasto por RMAT - Cluster 2', fontsize=15)\n",
    "# plt.xticks(rotation=0)\n",
    "# plt.ylabel('')\n",
    "# plt.show()"
   ]
  },
  {
   "cell_type": "code",
   "execution_count": null,
   "metadata": {},
   "outputs": [],
   "source": [
    "graf2 = mediana_c2[mediana_c2 != 0] \n",
    "graf2 = graf2.sort_values(ascending = False).reset_index()"
   ]
  },
  {
   "cell_type": "code",
   "execution_count": null,
   "metadata": {},
   "outputs": [],
   "source": [
    "graf2.loc[0:15,:].plot.barh(y=0, x='novo_grupo_rmat', figsize = (8, 10), width=0.7, color='green', fontsize=15).get_figure()\n",
    "plt.xlim((0,30))\n",
    "plt.title('Mediana percentual(%) do valor gasto por RMAT - Cluster 2', fontsize=15)\n",
    "plt.xticks(rotation=0)\n",
    "plt.ylabel('')\n",
    "plt.show()"
   ]
  },
  {
   "cell_type": "code",
   "execution_count": null,
   "metadata": {},
   "outputs": [],
   "source": [
    "fig2_radar = px.line_polar(graf2.iloc[0:10,], r=0, theta='novo_grupo_rmat', line_close=True, color_discrete_sequence=px.colors.sequential.Inferno)\n",
    "fig2_radar.update_traces(fill='toself')\n",
    "fig2_radar.show()"
   ]
  },
  {
   "cell_type": "markdown",
   "metadata": {},
   "source": [
    "###### Cluster 3"
   ]
  },
  {
   "cell_type": "code",
   "execution_count": null,
   "metadata": {},
   "outputs": [],
   "source": [
    "cluster3 = base_cluster[base_cluster['cluster'] == 3]\n",
    "cluster3.head()"
   ]
  },
  {
   "cell_type": "code",
   "execution_count": null,
   "metadata": {},
   "outputs": [],
   "source": [
    "media_c3 = cluster3.loc[:,filter_col0].apply(lambda x: x.mean())"
   ]
  },
  {
   "cell_type": "code",
   "execution_count": null,
   "metadata": {},
   "outputs": [],
   "source": [
    "# media_c3.plot(figsize = (20, 8), kind = 'bar', width=0.7, color='red', fontsize=15).get_figure()\n",
    "# plt.ylim((0,30))\n",
    "# plt.title('Média percentual(%) do valor gasto por RMAT - Cluster 3', fontsize=20)\n",
    "# plt.xticks(rotation=90)\n",
    "# plt.xlabel('')\n",
    "# plt.show()"
   ]
  },
  {
   "cell_type": "code",
   "execution_count": null,
   "metadata": {},
   "outputs": [],
   "source": [
    "mediana_c3 = cluster3.loc[:,filter_col0].apply(lambda x: x.median())"
   ]
  },
  {
   "cell_type": "code",
   "execution_count": null,
   "metadata": {},
   "outputs": [],
   "source": [
    "# mediana_c3.plot.barh(figsize = (10, 13), width=0.7, color='red', fontsize=11).get_figure()\n",
    "# plt.xlim((0,30))\n",
    "# plt.title('Mediana percentual(%) do valor gasto por RMAT - Cluster 3', fontsize=15)\n",
    "# plt.ylabel('')\n",
    "# plt.xticks(rotation=0)\n",
    "# plt.show()"
   ]
  },
  {
   "cell_type": "code",
   "execution_count": null,
   "metadata": {},
   "outputs": [],
   "source": [
    "graf3 = mediana_c3[mediana_c3 != 0] \n",
    "graf3 = graf3.sort_values(ascending = False).reset_index()"
   ]
  },
  {
   "cell_type": "code",
   "execution_count": null,
   "metadata": {},
   "outputs": [],
   "source": [
    "graf3.loc[0:15,:].plot.barh(y=0, x='novo_grupo_rmat', figsize = (8, 10), width=0.7, color='red', fontsize=15).get_figure()\n",
    "plt.xlim((0,30))\n",
    "plt.title('Mediana percentual(%) do valor gasto por RMAT - Cluster 3', fontsize=15)\n",
    "plt.xticks(rotation=0)\n",
    "plt.ylabel('')\n",
    "plt.show()"
   ]
  },
  {
   "cell_type": "markdown",
   "metadata": {},
   "source": [
    "###### Cluster 4 "
   ]
  },
  {
   "cell_type": "code",
   "execution_count": null,
   "metadata": {},
   "outputs": [],
   "source": [
    "cluster4 = base_cluster[base_cluster['cluster'] == 4]\n",
    "cluster4.head()"
   ]
  },
  {
   "cell_type": "code",
   "execution_count": null,
   "metadata": {},
   "outputs": [],
   "source": [
    "media_c4 = cluster4.loc[:,filter_col0].apply(lambda x: x.mean())"
   ]
  },
  {
   "cell_type": "code",
   "execution_count": null,
   "metadata": {},
   "outputs": [],
   "source": [
    "# media_c4.plot(figsize = (20, 8), kind = 'bar', width=0.7, color='purple', fontsize=15).get_figure()\n",
    "# plt.ylim((0,30))\n",
    "# plt.title('Média percentual(%) do valor gasto por RMAT - Cluster 4', fontsize=20)\n",
    "# plt.xlabel('')\n",
    "# plt.xticks(rotation=90)\n",
    "# plt.show()"
   ]
  },
  {
   "cell_type": "code",
   "execution_count": null,
   "metadata": {},
   "outputs": [],
   "source": [
    "mediana_c4 = cluster4.loc[:,filter_col0].apply(lambda x: x.median())"
   ]
  },
  {
   "cell_type": "code",
   "execution_count": null,
   "metadata": {},
   "outputs": [],
   "source": [
    "# mediana_c4.plot.barh(figsize = (10, 13), width=0.7, color='purple', fontsize=11).get_figure()\n",
    "# plt.xlim((0,30))\n",
    "# plt.title('Mediana percentual(%) do valor gasto por RMAT - Cluster 4', fontsize=15)\n",
    "# plt.xticks(rotation=0)\n",
    "# plt.ylabel('')\n",
    "# plt.show()"
   ]
  },
  {
   "cell_type": "code",
   "execution_count": null,
   "metadata": {},
   "outputs": [],
   "source": [
    "graf4 = mediana_c4[mediana_c4 != 0] \n",
    "graf4 = graf4.sort_values(ascending = False).reset_index()"
   ]
  },
  {
   "cell_type": "code",
   "execution_count": null,
   "metadata": {},
   "outputs": [],
   "source": [
    "graf4.loc[0:15,:].plot.barh(y=0, x='novo_grupo_rmat', figsize = (8, 10), width=0.7, color='purple', fontsize=15).get_figure()\n",
    "plt.xlim((0,30))\n",
    "plt.title('Mediana percentual(%) do valor gasto por RMAT - Cluster 4', fontsize=15)\n",
    "plt.xticks(rotation=0)\n",
    "plt.ylabel('')\n",
    "plt.show()"
   ]
  },
  {
   "cell_type": "markdown",
   "metadata": {},
   "source": [
    "###### Cluster 5"
   ]
  },
  {
   "cell_type": "code",
   "execution_count": null,
   "metadata": {},
   "outputs": [],
   "source": [
    "cluster5 = base_cluster[base_cluster['cluster'] == 5]\n",
    "cluster5.head()"
   ]
  },
  {
   "cell_type": "code",
   "execution_count": null,
   "metadata": {},
   "outputs": [],
   "source": [
    "media_c5 = cluster5.loc[:,filter_col0].apply(lambda x: x.mean())"
   ]
  },
  {
   "cell_type": "code",
   "execution_count": null,
   "metadata": {},
   "outputs": [],
   "source": [
    "# media_c5.plot(figsize = (20, 8), kind = 'bar', width=0.7, color='sienna', fontsize=15).get_figure()\n",
    "# plt.ylim((0,30))\n",
    "# plt.title('Média percentual(%) do valor gasto por RMAT - Cluster 5', fontsize=20)\n",
    "# plt.xticks(rotation=90)\n",
    "# plt.xlabel('')\n",
    "# plt.show()"
   ]
  },
  {
   "cell_type": "code",
   "execution_count": null,
   "metadata": {},
   "outputs": [],
   "source": [
    "mediana_c5 = cluster5.loc[:,filter_col0].apply(lambda x: x.median())"
   ]
  },
  {
   "cell_type": "code",
   "execution_count": null,
   "metadata": {},
   "outputs": [],
   "source": [
    "# mediana_c5.plot.barh(figsize = (10, 13), width=0.7, color='sienna', fontsize=11).get_figure()\n",
    "# plt.xlim((0,30))\n",
    "# plt.title('Mediana percentual(%) do valor gasto por RMAT - Cluster 5', fontsize=15)\n",
    "# plt.xticks(rotation=0)\n",
    "# plt.ylabel('')\n",
    "# plt.show()"
   ]
  },
  {
   "cell_type": "code",
   "execution_count": null,
   "metadata": {},
   "outputs": [],
   "source": [
    "graf5 = mediana_c5[mediana_c5 != 0] \n",
    "graf5 = graf5.sort_values(ascending = False).reset_index()"
   ]
  },
  {
   "cell_type": "code",
   "execution_count": null,
   "metadata": {},
   "outputs": [],
   "source": [
    "graf5.loc[0:15,:].plot.barh(y=0, x='novo_grupo_rmat', figsize = (8, 10), width=0.7, color='sienna', fontsize=15).get_figure()\n",
    "plt.xlim((0,30))\n",
    "plt.title('Mediana percentual(%) do valor gasto por RMAT - Cluster 5', fontsize=15)\n",
    "plt.xticks(rotation=0)\n",
    "plt.ylabel('')\n",
    "plt.show()"
   ]
  },
  {
   "cell_type": "markdown",
   "metadata": {},
   "source": [
    "###### Cluster 6"
   ]
  },
  {
   "cell_type": "code",
   "execution_count": null,
   "metadata": {},
   "outputs": [],
   "source": [
    "cluster6 = base_cluster[base_cluster['cluster'] == 6]\n",
    "cluster6.head()"
   ]
  },
  {
   "cell_type": "code",
   "execution_count": null,
   "metadata": {},
   "outputs": [],
   "source": [
    "media_c6 = cluster6.loc[:,filter_col0].apply(lambda x: x.mean())"
   ]
  },
  {
   "cell_type": "code",
   "execution_count": null,
   "metadata": {},
   "outputs": [],
   "source": [
    "# graf6_mean = media_c6.sort_values(ascending = False).reset_index()\n",
    "# graf6_mean.loc[0:12,].plot.barh(y=0, x='novo_grupo_rmat', figsize = (8, 10), width=0.7, fontsize=15).get_figure()\n",
    "# plt.xticks(rotation=0)\n",
    "# plt.xlim((0,30))\n",
    "# plt.ylabel('')\n",
    "# plt.title('Média percentual(%) do valor gasto por RMAT - Cluster 4', fontsize=15)\n",
    "# plt.show()"
   ]
  },
  {
   "cell_type": "code",
   "execution_count": null,
   "metadata": {},
   "outputs": [],
   "source": [
    "# media_c6.plot(figsize = (20, 8), kind = 'bar', width=0.7, color='violet', fontsize=15).get_figure()\n",
    "# plt.ylim((0,30))\n",
    "# plt.title('Média percentual(%) do valor gasto por RMAT - Cluster 6', fontsize=20)\n",
    "# plt.xticks(rotation=90)\n",
    "# plt.xlabel('')\n",
    "# plt.show()"
   ]
  },
  {
   "cell_type": "code",
   "execution_count": null,
   "metadata": {},
   "outputs": [],
   "source": [
    "mediana_c6 = cluster6.loc[:,filter_col0].apply(lambda x: x.median())"
   ]
  },
  {
   "cell_type": "code",
   "execution_count": null,
   "metadata": {},
   "outputs": [],
   "source": [
    "# mediana_c6.plot.barh(figsize = (10, 13), width=0.7, color='violet', fontsize=11).get_figure()\n",
    "# plt.xlim((0,30))\n",
    "# plt.title('Mediana percentual(%) do valor gasto por RMAT - Cluster 6', fontsize=15)\n",
    "# plt.xticks(rotation=0)\n",
    "# plt.ylabel('')\n",
    "# plt.show()"
   ]
  },
  {
   "cell_type": "code",
   "execution_count": null,
   "metadata": {},
   "outputs": [],
   "source": [
    "graf6 = mediana_c6[mediana_c6 != 0] \n",
    "graf6 = graf6.sort_values(ascending = False).reset_index()"
   ]
  },
  {
   "cell_type": "code",
   "execution_count": null,
   "metadata": {},
   "outputs": [],
   "source": [
    "graf6.loc[0:15,:].plot.barh(y=0, x='novo_grupo_rmat',figsize = (8, 10), width=0.7, color='violet', fontsize=15).get_figure()\n",
    "plt.xlim((0,30))\n",
    "plt.title('Mediana percentual(%) do valor gasto por RMAT - Cluster 6', fontsize=15)\n",
    "plt.xticks(rotation=0)\n",
    "plt.ylabel('')\n",
    "plt.show()"
   ]
  },
  {
   "cell_type": "code",
   "execution_count": null,
   "metadata": {},
   "outputs": [],
   "source": [
    "cluster7 = base_cluster[base_cluster['cluster'] == 7]\n",
    "cluster7.head()"
   ]
  },
  {
   "cell_type": "code",
   "execution_count": null,
   "metadata": {},
   "outputs": [],
   "source": [
    "mediana_c7 = cluster7.loc[:,filter_col0].apply(lambda x: x.median())\n",
    "graf7 = mediana_c7[mediana_c7 != 0] \n",
    "graf7 = graf7.sort_values(ascending = False).reset_index()\n",
    "\n",
    "graf7.loc[0:15,:].plot.barh(y=0, x='novo_grupo_rmat',figsize = (8, 10), width=0.7, color='violet', fontsize=15).get_figure()\n",
    "plt.xlim((0,30))\n",
    "plt.title('Mediana percentual(%) do valor gasto por RMAT - Cluster 7', fontsize=15)\n",
    "plt.xticks(rotation=0)\n",
    "plt.ylabel('')\n",
    "plt.show()"
   ]
  },
  {
   "cell_type": "code",
   "execution_count": null,
   "metadata": {},
   "outputs": [],
   "source": []
  },
  {
   "cell_type": "code",
   "execution_count": null,
   "metadata": {},
   "outputs": [],
   "source": []
  },
  {
   "cell_type": "code",
   "execution_count": null,
   "metadata": {},
   "outputs": [],
   "source": []
  },
  {
   "cell_type": "code",
   "execution_count": null,
   "metadata": {},
   "outputs": [],
   "source": []
  },
  {
   "cell_type": "code",
   "execution_count": null,
   "metadata": {},
   "outputs": [],
   "source": []
  },
  {
   "cell_type": "code",
   "execution_count": null,
   "metadata": {},
   "outputs": [],
   "source": []
  },
  {
   "cell_type": "code",
   "execution_count": null,
   "metadata": {},
   "outputs": [],
   "source": []
  },
  {
   "cell_type": "code",
   "execution_count": null,
   "metadata": {},
   "outputs": [],
   "source": []
  },
  {
   "cell_type": "code",
   "execution_count": null,
   "metadata": {},
   "outputs": [],
   "source": []
  },
  {
   "cell_type": "code",
   "execution_count": null,
   "metadata": {},
   "outputs": [],
   "source": [
    "# fig.savefig('./graf.png')"
   ]
  },
  {
   "cell_type": "code",
   "execution_count": null,
   "metadata": {},
   "outputs": [],
   "source": [
    "# Média do percentual gasto por cluster\n",
    "filter_col1 = [col for col in base_cluster if not col.startswith('esc_')]\n",
    "\n",
    "df_clusters_mediana = base_cluster.groupby('cluster')[filter_col1].median()\n",
    "df_clusters_mediana.round(2)"
   ]
  },
  {
   "cell_type": "code",
   "execution_count": null,
   "metadata": {},
   "outputs": [],
   "source": [
    "df_clusters_mediana = df_clusters_mediana.replace('.', ',')"
   ]
  },
  {
   "cell_type": "code",
   "execution_count": null,
   "metadata": {},
   "outputs": [],
   "source": [
    "df_clusters_mediana"
   ]
  },
  {
   "cell_type": "code",
   "execution_count": null,
   "metadata": {},
   "outputs": [],
   "source": [
    "df_clusters_mediana.to_csv('./cluster_mediana.csv', sep=';')"
   ]
  },
  {
   "cell_type": "code",
   "execution_count": null,
   "metadata": {},
   "outputs": [],
   "source": []
  },
  {
   "cell_type": "code",
   "execution_count": null,
   "metadata": {},
   "outputs": [],
   "source": [
    "base_cluster.shape[1]"
   ]
  },
  {
   "cell_type": "code",
   "execution_count": null,
   "metadata": {},
   "outputs": [],
   "source": [
    "for i in range(base_cluster.loc[:,filter_col0].shape[1]//12+1):\n",
    "    try:\n",
    "        fig = base_cluster.loc[:,filter_col0].T[12*i:12*i+12].plot(figsize = (18, 8), kind = 'bar', width=0.7).get_figure()\n",
    "    except:\n",
    "        fig = base_cluster.loc[:,filter_col0].T[12*i:].plot(figsize = (18, 8), kind = 'bar', width=0.7).get_figure()\n",
    "        \n",
    "    fig.savefig('./grafico_'+str(i)+'.png')"
   ]
  },
  {
   "cell_type": "code",
   "execution_count": null,
   "metadata": {},
   "outputs": [],
   "source": [
    "df_clusters_med = base_cluster.groupby('cluster').median()\n",
    "df_clusters_med = df_clusters_med.round(2)"
   ]
  },
  {
   "cell_type": "code",
   "execution_count": null,
   "metadata": {},
   "outputs": [],
   "source": [
    "df_clusters_med.head()"
   ]
  },
  {
   "cell_type": "code",
   "execution_count": null,
   "metadata": {},
   "outputs": [],
   "source": [
    "mediana_c1.plot.barh(figsize = (10, 13), width=0.7, color='orange', fontsize=11).get_figure()\n",
    "plt.xlim((0,30))\n",
    "plt.title('Mediana percentual(%) do valor gasto por RMAT - Cluster 1', fontsize=15)\n",
    "plt.ylabel('')\n",
    "plt.xticks(rotation=0)\n",
    "plt.show()"
   ]
  },
  {
   "cell_type": "code",
   "execution_count": null,
   "metadata": {},
   "outputs": [],
   "source": [
    "for i in range(df_clusters_med.shape[1]//12+1):\n",
    "    try:\n",
    "        fig = df_clusters_med.T[12*i:12*i+12].plot.barh(figsize = (10, 11), width=0.8, fontsize=12).get_figure()\n",
    "        plt.ylabel('')\n",
    "        plt.xlim((0,30))\n",
    "    except:\n",
    "        fig = df_clusters_med.T[12*i:].plot.barh(figsize = (10, 11), width=0.8, fontsize=12).get_figure()\n",
    "        plt.ylabel('')\n",
    "        plt.xlim((0,30))\n",
    "        \n",
    "    fig.savefig('./grafico_med_'+str(i)+'.png')"
   ]
  },
  {
   "cell_type": "code",
   "execution_count": null,
   "metadata": {},
   "outputs": [],
   "source": [
    "df_clusters = df_clusters.round(2)\n",
    "df_clusters.head()"
   ]
  },
  {
   "cell_type": "code",
   "execution_count": null,
   "metadata": {},
   "outputs": [],
   "source": [
    "df_clusters.to_csv('./cluster_media.csv', sep=';')"
   ]
  }
 ],
 "metadata": {
  "kernelspec": {
   "display_name": "Python 3",
   "language": "python",
   "name": "python3"
  },
  "language_info": {
   "codemirror_mode": {
    "name": "ipython",
    "version": 3
   },
   "file_extension": ".py",
   "mimetype": "text/x-python",
   "name": "python",
   "nbconvert_exporter": "python",
   "pygments_lexer": "ipython3",
   "version": "3.7.4"
  }
 },
 "nbformat": 4,
 "nbformat_minor": 4
}
